{
  "nbformat": 4,
  "nbformat_minor": 0,
  "metadata": {
    "colab": {
      "name": "Mapreduce code.ipynb",
      "provenance": []
    },
    "kernelspec": {
      "name": "python3",
      "display_name": "Python 3"
    },
    "language_info": {
      "name": "python"
    }
  },
  "cells": [
    {
      "cell_type": "markdown",
      "metadata": {
        "id": "103tdZIL3AdK"
      },
      "source": [
        "Installation of Pyspark to run MapReduce"
      ]
    },
    {
      "cell_type": "code",
      "metadata": {
        "colab": {
          "base_uri": "https://localhost:8080/"
        },
        "id": "ywaU5vlB2zDC",
        "outputId": "1898b2a6-3c1b-4f22-a144-ea7c708639d9"
      },
      "source": [
        "!pip install pyspark"
      ],
      "execution_count": 1,
      "outputs": [
        {
          "output_type": "stream",
          "name": "stdout",
          "text": [
            "Requirement already satisfied: pyspark in /usr/local/lib/python3.7/dist-packages (3.2.0)\n",
            "Requirement already satisfied: py4j==0.10.9.2 in /usr/local/lib/python3.7/dist-packages (from pyspark) (0.10.9.2)\n"
          ]
        }
      ]
    },
    {
      "cell_type": "code",
      "metadata": {
        "id": "toLSnrNl3PUa"
      },
      "source": [
        "from pyspark.sql import SparkSession\n",
        "from pyspark.sql.types import *\n",
        "import pandas as pd\n",
        "import numpy as np"
      ],
      "execution_count": 2,
      "outputs": []
    },
    {
      "cell_type": "code",
      "metadata": {
        "id": "spx4UP3-G2nE"
      },
      "source": [
        "from pyspark import SparkContext, SparkConf\n",
        "from pyspark.sql import Row\n",
        "from pyspark.sql.types import StructField\n",
        "from pyspark.sql.types import StructType\n",
        "from pyspark.sql.types import StringType\n",
        "#from pyspark.sql.types import VarcharType\n",
        "# FloatType, DateType, DatetimeType"
      ],
      "execution_count": 3,
      "outputs": []
    },
    {
      "cell_type": "code",
      "metadata": {
        "id": "3clKhOym3Qei"
      },
      "source": [
        "spark = SparkSession.builder.master(\"local[1]\") \\\n",
        "    .appName(\"SparkByExamples.com\").getOrCreate()"
      ],
      "execution_count": 4,
      "outputs": []
    },
    {
      "cell_type": "code",
      "metadata": {
        "id": "sFAlzEo43R6t"
      },
      "source": [
        "flightdata = pd.read_csv('/content/drive/MyDrive/flight data/flightsPro1.csv')"
      ],
      "execution_count": 19,
      "outputs": []
    },
    {
      "cell_type": "code",
      "metadata": {
        "colab": {
          "base_uri": "https://localhost:8080/",
          "height": 924
        },
        "id": "vT2TsIpR59ja",
        "outputId": "28c5f604-7b8b-402c-d1dd-88122ed8d24a"
      },
      "source": [
        "flightdata"
      ],
      "execution_count": 20,
      "outputs": [
        {
          "output_type": "execute_result",
          "data": {
            "text/html": [
              "<div>\n",
              "<style scoped>\n",
              "    .dataframe tbody tr th:only-of-type {\n",
              "        vertical-align: middle;\n",
              "    }\n",
              "\n",
              "    .dataframe tbody tr th {\n",
              "        vertical-align: top;\n",
              "    }\n",
              "\n",
              "    .dataframe thead th {\n",
              "        text-align: right;\n",
              "    }\n",
              "</style>\n",
              "<table border=\"1\" class=\"dataframe\">\n",
              "  <thead>\n",
              "    <tr style=\"text-align: right;\">\n",
              "      <th></th>\n",
              "      <th>callsign</th>\n",
              "      <th>number</th>\n",
              "      <th>aircraft_uid</th>\n",
              "      <th>typecode</th>\n",
              "      <th>origin</th>\n",
              "      <th>destination</th>\n",
              "      <th>firstseen</th>\n",
              "      <th>lastseen</th>\n",
              "      <th>day</th>\n",
              "      <th>latitude_1</th>\n",
              "      <th>longitude_1</th>\n",
              "      <th>altitude_1</th>\n",
              "      <th>latitude_2</th>\n",
              "      <th>longitude_2</th>\n",
              "      <th>altitude_2</th>\n",
              "      <th>country_origin</th>\n",
              "      <th>country_destination</th>\n",
              "      <th>international</th>\n",
              "    </tr>\n",
              "  </thead>\n",
              "  <tbody>\n",
              "    <tr>\n",
              "      <th>0</th>\n",
              "      <td>QFA64</td>\n",
              "      <td>QF64</td>\n",
              "      <td>92ac5351-d69f-4836-979e-68b14bccf16d</td>\n",
              "      <td>B744</td>\n",
              "      <td>YSSY</td>\n",
              "      <td>YSSY</td>\n",
              "      <td>2/29/2020 1:00</td>\n",
              "      <td>3/1/2020 4:39</td>\n",
              "      <td>3/1/2020</td>\n",
              "      <td>-33.971775</td>\n",
              "      <td>151.181774</td>\n",
              "      <td>0.0</td>\n",
              "      <td>-33.995889</td>\n",
              "      <td>151.188755</td>\n",
              "      <td>236.22</td>\n",
              "      <td>Australia</td>\n",
              "      <td>Australia</td>\n",
              "      <td>False</td>\n",
              "    </tr>\n",
              "    <tr>\n",
              "      <th>1</th>\n",
              "      <td>LAN602</td>\n",
              "      <td>LA602</td>\n",
              "      <td>6058c095-d439-445e-9bca-643113af5b89</td>\n",
              "      <td>B789</td>\n",
              "      <td>KMIA</td>\n",
              "      <td>KLAX</td>\n",
              "      <td>2/29/2020 1:12</td>\n",
              "      <td>3/1/2020 14:28</td>\n",
              "      <td>3/1/2020</td>\n",
              "      <td>25.774531</td>\n",
              "      <td>-80.404064</td>\n",
              "      <td>914.4</td>\n",
              "      <td>33.947195</td>\n",
              "      <td>-118.431358</td>\n",
              "      <td>22.86</td>\n",
              "      <td>United States of America</td>\n",
              "      <td>United States of America</td>\n",
              "      <td>False</td>\n",
              "    </tr>\n",
              "    <tr>\n",
              "      <th>2</th>\n",
              "      <td>MAU440</td>\n",
              "      <td>MK440</td>\n",
              "      <td>e052860c-9157-4e2c-9154-e042bd77cf18</td>\n",
              "      <td>A332</td>\n",
              "      <td>VAJJ</td>\n",
              "      <td>YPPH</td>\n",
              "      <td>2/29/2020 1:34</td>\n",
              "      <td>3/1/2020 1:01</td>\n",
              "      <td>3/1/2020</td>\n",
              "      <td>19.088419</td>\n",
              "      <td>72.842052</td>\n",
              "      <td>0.0</td>\n",
              "      <td>-31.941330</td>\n",
              "      <td>115.964758</td>\n",
              "      <td>0.00</td>\n",
              "      <td>India</td>\n",
              "      <td>Australia</td>\n",
              "      <td>True</td>\n",
              "    </tr>\n",
              "    <tr>\n",
              "      <th>3</th>\n",
              "      <td>KQA784</td>\n",
              "      <td>NaN</td>\n",
              "      <td>f4f16959-b038-4726-84f4-447f8c94e5e4</td>\n",
              "      <td>B738</td>\n",
              "      <td>VABB</td>\n",
              "      <td>FACT</td>\n",
              "      <td>2/29/2020 1:44</td>\n",
              "      <td>3/1/2020 19:28</td>\n",
              "      <td>3/1/2020</td>\n",
              "      <td>19.088745</td>\n",
              "      <td>72.868979</td>\n",
              "      <td>0.0</td>\n",
              "      <td>-33.966468</td>\n",
              "      <td>18.602142</td>\n",
              "      <td>38.10</td>\n",
              "      <td>India</td>\n",
              "      <td>South Africa</td>\n",
              "      <td>True</td>\n",
              "    </tr>\n",
              "    <tr>\n",
              "      <th>4</th>\n",
              "      <td>NaN</td>\n",
              "      <td>NaN</td>\n",
              "      <td>31d7ce7d-5062-42e4-89a6-00709fd2e132</td>\n",
              "      <td>B788</td>\n",
              "      <td>WBSB</td>\n",
              "      <td>WBSB</td>\n",
              "      <td>2/29/2020 3:22</td>\n",
              "      <td>3/1/2020 0:08</td>\n",
              "      <td>3/1/2020</td>\n",
              "      <td>4.949108</td>\n",
              "      <td>114.931293</td>\n",
              "      <td>0.0</td>\n",
              "      <td>4.941788</td>\n",
              "      <td>114.926908</td>\n",
              "      <td>22.86</td>\n",
              "      <td>Brunei</td>\n",
              "      <td>Brunei</td>\n",
              "      <td>False</td>\n",
              "    </tr>\n",
              "    <tr>\n",
              "      <th>...</th>\n",
              "      <td>...</td>\n",
              "      <td>...</td>\n",
              "      <td>...</td>\n",
              "      <td>...</td>\n",
              "      <td>...</td>\n",
              "      <td>...</td>\n",
              "      <td>...</td>\n",
              "      <td>...</td>\n",
              "      <td>...</td>\n",
              "      <td>...</td>\n",
              "      <td>...</td>\n",
              "      <td>...</td>\n",
              "      <td>...</td>\n",
              "      <td>...</td>\n",
              "      <td>...</td>\n",
              "      <td>...</td>\n",
              "      <td>...</td>\n",
              "      <td>...</td>\n",
              "    </tr>\n",
              "    <tr>\n",
              "      <th>5169</th>\n",
              "      <td>NaN</td>\n",
              "      <td>NaN</td>\n",
              "      <td>e83a5807-32a1-4149-b1d4-b18d82b03789</td>\n",
              "      <td>NaN</td>\n",
              "      <td>KPAO</td>\n",
              "      <td>KPAO</td>\n",
              "      <td>3/1/2020 0:52</td>\n",
              "      <td>3/1/2020 1:57</td>\n",
              "      <td>3/1/2020</td>\n",
              "      <td>37.462541</td>\n",
              "      <td>-122.116500</td>\n",
              "      <td>-304.8</td>\n",
              "      <td>37.458305</td>\n",
              "      <td>-122.112261</td>\n",
              "      <td>-30.48</td>\n",
              "      <td>United States of America</td>\n",
              "      <td>United States of America</td>\n",
              "      <td>False</td>\n",
              "    </tr>\n",
              "    <tr>\n",
              "      <th>5170</th>\n",
              "      <td>SKW5869</td>\n",
              "      <td>NaN</td>\n",
              "      <td>5cfc6599-e6c7-4342-b69a-7924344dcf35</td>\n",
              "      <td>CRJ7</td>\n",
              "      <td>KIAH</td>\n",
              "      <td>KPSP</td>\n",
              "      <td>3/1/2020 0:52</td>\n",
              "      <td>3/1/2020 4:24</td>\n",
              "      <td>3/1/2020</td>\n",
              "      <td>29.995560</td>\n",
              "      <td>-95.269668</td>\n",
              "      <td>304.8</td>\n",
              "      <td>33.806992</td>\n",
              "      <td>-116.487477</td>\n",
              "      <td>228.60</td>\n",
              "      <td>United States of America</td>\n",
              "      <td>United States of America</td>\n",
              "      <td>False</td>\n",
              "    </tr>\n",
              "    <tr>\n",
              "      <th>5171</th>\n",
              "      <td>TLM230</td>\n",
              "      <td>NaN</td>\n",
              "      <td>1f8bdc24-014f-4046-8d69-1b92d248e75b</td>\n",
              "      <td>B738</td>\n",
              "      <td>VTBD</td>\n",
              "      <td>VCBI</td>\n",
              "      <td>3/1/2020 0:52</td>\n",
              "      <td>3/1/2020 4:59</td>\n",
              "      <td>3/1/2020</td>\n",
              "      <td>13.895517</td>\n",
              "      <td>100.599012</td>\n",
              "      <td>0.0</td>\n",
              "      <td>7.115158</td>\n",
              "      <td>79.687888</td>\n",
              "      <td>952.50</td>\n",
              "      <td>Thailand</td>\n",
              "      <td>Sri Lanka</td>\n",
              "      <td>True</td>\n",
              "    </tr>\n",
              "    <tr>\n",
              "      <th>5172</th>\n",
              "      <td>JBU2741</td>\n",
              "      <td>NaN</td>\n",
              "      <td>f46a4f4b-c5c4-4612-b879-7ee00ded1a9f</td>\n",
              "      <td>A320</td>\n",
              "      <td>KBOS</td>\n",
              "      <td>KSRQ</td>\n",
              "      <td>3/1/2020 0:52</td>\n",
              "      <td>3/1/2020 3:38</td>\n",
              "      <td>3/1/2020</td>\n",
              "      <td>42.370148</td>\n",
              "      <td>-71.012317</td>\n",
              "      <td>0.0</td>\n",
              "      <td>27.340129</td>\n",
              "      <td>-82.491743</td>\n",
              "      <td>350.52</td>\n",
              "      <td>United States of America</td>\n",
              "      <td>United States of America</td>\n",
              "      <td>False</td>\n",
              "    </tr>\n",
              "    <tr>\n",
              "      <th>5173</th>\n",
              "      <td>UAL2420</td>\n",
              "      <td>NaN</td>\n",
              "      <td>d33dda48-efe1-4478-bb9f-7a08bdfb6f1f</td>\n",
              "      <td>B738</td>\n",
              "      <td>KIAH</td>\n",
              "      <td>CYYZ</td>\n",
              "      <td>3/1/2020 0:52</td>\n",
              "      <td>3/1/2020 3:33</td>\n",
              "      <td>3/1/2020</td>\n",
              "      <td>29.954782</td>\n",
              "      <td>-95.332050</td>\n",
              "      <td>304.8</td>\n",
              "      <td>43.670166</td>\n",
              "      <td>-79.610203</td>\n",
              "      <td>121.92</td>\n",
              "      <td>United States of America</td>\n",
              "      <td>Canada</td>\n",
              "      <td>True</td>\n",
              "    </tr>\n",
              "  </tbody>\n",
              "</table>\n",
              "<p>5174 rows × 18 columns</p>\n",
              "</div>"
            ],
            "text/plain": [
              "     callsign number  ...       country_destination international\n",
              "0       QFA64   QF64  ...                 Australia         False\n",
              "1      LAN602  LA602  ...  United States of America         False\n",
              "2      MAU440  MK440  ...                 Australia          True\n",
              "3      KQA784    NaN  ...              South Africa          True\n",
              "4         NaN    NaN  ...                    Brunei         False\n",
              "...       ...    ...  ...                       ...           ...\n",
              "5169      NaN    NaN  ...  United States of America         False\n",
              "5170  SKW5869    NaN  ...  United States of America         False\n",
              "5171   TLM230    NaN  ...                 Sri Lanka          True\n",
              "5172  JBU2741    NaN  ...  United States of America         False\n",
              "5173  UAL2420    NaN  ...                    Canada          True\n",
              "\n",
              "[5174 rows x 18 columns]"
            ]
          },
          "metadata": {},
          "execution_count": 20
        }
      ]
    },
    {
      "cell_type": "code",
      "metadata": {
        "id": "9LJvScGn3R37"
      },
      "source": [
        "columnsList = flightdata.columns"
      ],
      "execution_count": 21,
      "outputs": []
    },
    {
      "cell_type": "code",
      "metadata": {
        "colab": {
          "base_uri": "https://localhost:8080/"
        },
        "id": "c3P9R9O-3R1R",
        "outputId": "40d47bf1-9657-4903-d1ba-37a1ee2f951f"
      },
      "source": [
        "print(columnsList)"
      ],
      "execution_count": 22,
      "outputs": [
        {
          "output_type": "stream",
          "name": "stdout",
          "text": [
            "Index(['callsign', 'number', 'aircraft_uid', 'typecode', 'origin',\n",
            "       'destination', 'firstseen', 'lastseen', 'day', 'latitude_1',\n",
            "       'longitude_1', 'altitude_1', 'latitude_2', 'longitude_2', 'altitude_2',\n",
            "       'country_origin', 'country_destination', 'international'],\n",
            "      dtype='object')\n"
          ]
        }
      ]
    },
    {
      "cell_type": "code",
      "metadata": {
        "id": "kENRpF6g3fr5"
      },
      "source": [
        "data = flightdata[['callsign', 'number', 'aircraft_uid', 'typecode', 'origin',\n",
        "       'destination', 'firstseen', 'lastseen', 'day', 'latitude_1', 'longitude_1',\n",
        "        'latitude_2', 'altitude_1', 'longitude_2', 'altitude_2', 'country_origin',\n",
        "         'country_destination', 'international']]"
      ],
      "execution_count": 23,
      "outputs": []
    },
    {
      "cell_type": "code",
      "metadata": {
        "id": "oWXgPlG73ivL"
      },
      "source": [
        "#df = spark.createDataFrame(data=data)\n",
        "#df.show()"
      ],
      "execution_count": 24,
      "outputs": []
    },
    {
      "cell_type": "code",
      "metadata": {
        "id": "QFwtgbRukImg"
      },
      "source": [
        "from datetime import datetime"
      ],
      "execution_count": 25,
      "outputs": []
    },
    {
      "cell_type": "code",
      "metadata": {
        "id": "AbL9jTTTkP-g"
      },
      "source": [
        "from pyspark.serializers import CloudPickleSerializer"
      ],
      "execution_count": 26,
      "outputs": []
    },
    {
      "cell_type": "code",
      "metadata": {
        "id": "G3xAM1Vg8F16"
      },
      "source": [
        "pd_df = pd.DataFrame(['callsign', 'number', 'aircraft_uid', 'typecode', 'origin',\n",
        "       'destination', 'day', 'firstseen','lastseen','latitude_1', 'longitude_1','latitude_2', 'altitude_1',\n",
        "        'longitude_2', 'altitude_2', 'country_origin',\n",
        "         'country_destination', 'international'])\n",
        "                     \n",
        "\n",
        "df_schema = StructType([StructField(\"origin\", StringType(), True)\n",
        "                       ,StructField(\"callsign\", StringType(), True)\n",
        "                       ,StructField(\"number\", StringType(), True)\n",
        "                       ,StructField(\"aircraft_uid\", StringType(), True)\n",
        "                       ,StructField(\"typecode\", StringType(), True)\n",
        "                       ,StructField(\"origin\", StringType(), True)\n",
        "                       ,StructField(\"firstseen\", StringType(), True)\n",
        "                       ,StructField(\"lastseen\", StringType(), True)\n",
        "                       ,StructField(\"destination\", StringType(), True)\n",
        "                       ,StructField(\"day\", DateType(), True)\n",
        "                       ,StructField(\"latitude_1\", FloatType(), True)\n",
        "                       ,StructField(\"longitude_1\", FloatType(), True)\n",
        "                       ,StructField(\"latitude_2\", FloatType(), True)\n",
        "                       ,StructField(\"altitude_1\", FloatType(), True)\n",
        "                       ,StructField(\"longitude_2\", FloatType(), True)\n",
        "                       ,StructField(\"altitude_2\", FloatType(), True)\n",
        "                       ,StructField(\"country_origin\", StringType(), True)\n",
        "                       ,StructField(\"country_destination\", StringType(), True)\n",
        "                       ,StructField(\"international\", BooleanType(), True)])\n",
        "                      \n",
        "\n"
      ],
      "execution_count": 35,
      "outputs": []
    },
    {
      "cell_type": "code",
      "metadata": {
        "colab": {
          "base_uri": "https://localhost:8080/"
        },
        "id": "oRxFJPEGnHWS",
        "outputId": "30c9ad59-223a-482f-d2b8-0bd598d56dc6"
      },
      "source": [
        "df_schema"
      ],
      "execution_count": 36,
      "outputs": [
        {
          "output_type": "execute_result",
          "data": {
            "text/plain": [
              "StructType(List(StructField(origin,StringType,true),StructField(callsign,StringType,true),StructField(number,StringType,true),StructField(aircraft_uid,StringType,true),StructField(typecode,StringType,true),StructField(origin,StringType,true),StructField(destination,StringType,true),StructField(day,DateType,true),StructField(latitude_1,FloatType,true),StructField(longitude_1,FloatType,true),StructField(latitude_2,FloatType,true),StructField(altitude_1,FloatType,true),StructField(longitude_2,FloatType,true),StructField(altitude_2,FloatType,true),StructField(country_origin,StringType,true),StructField(country_destination,StringType,true),StructField(international,BooleanType,true)))"
            ]
          },
          "metadata": {},
          "execution_count": 36
        }
      ]
    },
    {
      "cell_type": "code",
      "metadata": {
        "id": "QkCF1_R2YLjP"
      },
      "source": [
        "df = spark.createDataFrame(pd_df, schema=df_schema)\n"
      ],
      "execution_count": null,
      "outputs": []
    },
    {
      "cell_type": "code",
      "metadata": {
        "id": "hQ0QTMG7YQDG"
      },
      "source": [
        "display(df)"
      ],
      "execution_count": null,
      "outputs": []
    },
    {
      "cell_type": "code",
      "metadata": {
        "id": "u0iAg8mf3itT"
      },
      "source": [
        "rddReduced = df.rdd.map(lambda a: (a.country_origin, a.day)).reduceByKey(lambda x,y : x + y).collectAsMap()"
      ],
      "execution_count": null,
      "outputs": []
    },
    {
      "cell_type": "code",
      "metadata": {
        "id": "j1rWMXCRwSVr"
      },
      "source": [
        "rddReduced"
      ],
      "execution_count": null,
      "outputs": []
    },
    {
      "cell_type": "code",
      "metadata": {
        "id": "h4qh6EIhvpeT"
      },
      "source": [
        "rddReduced = df.rdd.map(lambda a: (a.country_destination, a.day)).reduceByKey(lambda x,y : x + y).collectAsMap()"
      ],
      "execution_count": null,
      "outputs": []
    },
    {
      "cell_type": "code",
      "metadata": {
        "id": "aRLOUfxhwUxS"
      },
      "source": [
        "rddReduced"
      ],
      "execution_count": null,
      "outputs": []
    },
    {
      "cell_type": "code",
      "metadata": {
        "id": "rNISsaeTvepi"
      },
      "source": [
        "rddReduced = df.rdd.map(lambda a: (a.country_origin, a.country_destination)).reduceByKey(lambda x,y : x + y).collectAsMap()"
      ],
      "execution_count": null,
      "outputs": []
    },
    {
      "cell_type": "code",
      "metadata": {
        "id": "p4g1EprQwVir"
      },
      "source": [
        "rddReduced"
      ],
      "execution_count": null,
      "outputs": []
    },
    {
      "cell_type": "code",
      "metadata": {
        "id": "zlqg3kHQwFUd"
      },
      "source": [
        "rddReduced = df.rdd.map(lambda a: (a.lastseen, a.day)).reduceByKey(lambda x,y : x + y).collectAsMap()"
      ],
      "execution_count": null,
      "outputs": []
    },
    {
      "cell_type": "code",
      "metadata": {
        "id": "VIh6PC_KwWUr"
      },
      "source": [
        "rddReduced"
      ],
      "execution_count": null,
      "outputs": []
    }
  ]
}