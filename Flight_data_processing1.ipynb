{
  "nbformat": 4,
  "nbformat_minor": 0,
  "metadata": {
    "colab": {
      "name": "Flight data processing1.ipynb",
      "provenance": []
    },
    "kernelspec": {
      "name": "python3",
      "display_name": "Python 3"
    },
    "language_info": {
      "name": "python"
    }
  },
  "cells": [
    {
      "cell_type": "markdown",
      "metadata": {
        "id": "WoBAOCVm6xQ2"
      },
      "source": [
        "The following code is obtained as part of the dataset and modified to obtain additional results\n",
        "(Olive et al. (2020), DOI: https://doi.org/10.5281/zenodo.3928564)"
      ]
    },
    {
      "cell_type": "code",
      "metadata": {
        "colab": {
          "base_uri": "https://localhost:8080/"
        },
        "id": "MH1zQMM6dke2",
        "outputId": "c98048c0-3a18-4a47-9b36-3d6876ff7fa5"
      },
      "source": [
        "from google.colab import drive\n",
        "drive.mount('/content/drive')"
      ],
      "execution_count": 1,
      "outputs": [
        {
          "output_type": "stream",
          "name": "stdout",
          "text": [
            "Mounted at /content/drive\n"
          ]
        }
      ]
    },
    {
      "cell_type": "code",
      "metadata": {
        "id": "XTA3Gbt7qHr3"
      },
      "source": [
        "from pathlib import Path\n",
        "import pandas as pd"
      ],
      "execution_count": 2,
      "outputs": []
    },
    {
      "cell_type": "markdown",
      "metadata": {
        "id": "SSn3YqiuqPLd"
      },
      "source": [
        "Read all csv files from google drive\n"
      ]
    },
    {
      "cell_type": "code",
      "metadata": {
        "id": "-vk74FlyqKIM",
        "colab": {
          "base_uri": "https://localhost:8080/",
          "height": 323
        },
        "outputId": "01d3aa31-cbfe-4301-dea3-4249c0aa442b"
      },
      "source": [
        "flightlist = pd.concat(\n",
        "    pd.read_csv(file, parse_dates=[\"callsign\", \"typecode\", \"origin\", \"destination\", \"firstseen\", \"lastseen\", \"day\"])\n",
        "    for file in Path('/content/drive/MyDrive/flight data').glob(\"flightlist_*.csv\")\n",
        ")\n",
        "flightlist.head()\n",
        "#flightlist = flightlist.drop(columns=[\"Unnamed: 0\"])"
      ],
      "execution_count": 8,
      "outputs": [
        {
          "output_type": "execute_result",
          "data": {
            "text/html": [
              "<div>\n",
              "<style scoped>\n",
              "    .dataframe tbody tr th:only-of-type {\n",
              "        vertical-align: middle;\n",
              "    }\n",
              "\n",
              "    .dataframe tbody tr th {\n",
              "        vertical-align: top;\n",
              "    }\n",
              "\n",
              "    .dataframe thead th {\n",
              "        text-align: right;\n",
              "    }\n",
              "</style>\n",
              "<table border=\"1\" class=\"dataframe\">\n",
              "  <thead>\n",
              "    <tr style=\"text-align: right;\">\n",
              "      <th></th>\n",
              "      <th>callsign</th>\n",
              "      <th>number</th>\n",
              "      <th>aircraft_uid</th>\n",
              "      <th>typecode</th>\n",
              "      <th>origin</th>\n",
              "      <th>destination</th>\n",
              "      <th>firstseen</th>\n",
              "      <th>lastseen</th>\n",
              "      <th>day</th>\n",
              "      <th>latitude_1</th>\n",
              "      <th>longitude_1</th>\n",
              "      <th>altitude_1</th>\n",
              "      <th>latitude_2</th>\n",
              "      <th>longitude_2</th>\n",
              "      <th>altitude_2</th>\n",
              "    </tr>\n",
              "  </thead>\n",
              "  <tbody>\n",
              "    <tr>\n",
              "      <th>0</th>\n",
              "      <td>SVA870</td>\n",
              "      <td>NaN</td>\n",
              "      <td>82eff96d-11aa-41f0-a47c-974e3158c862</td>\n",
              "      <td>B77W</td>\n",
              "      <td>NaN</td>\n",
              "      <td>RPLL</td>\n",
              "      <td>2020-02-29 00:49:11+00:00</td>\n",
              "      <td>2020-03-01 07:39:58+00:00</td>\n",
              "      <td>2020-03-01 00:00:00+00:00</td>\n",
              "      <td>22.501490</td>\n",
              "      <td>46.814016</td>\n",
              "      <td>9448.8</td>\n",
              "      <td>14.493667</td>\n",
              "      <td>120.992576</td>\n",
              "      <td>99.06</td>\n",
              "    </tr>\n",
              "    <tr>\n",
              "      <th>1</th>\n",
              "      <td>QFA64</td>\n",
              "      <td>QF64</td>\n",
              "      <td>92ac5351-d69f-4836-979e-68b14bccf16d</td>\n",
              "      <td>B744</td>\n",
              "      <td>YSSY</td>\n",
              "      <td>YSSY</td>\n",
              "      <td>2020-02-29 01:00:11+00:00</td>\n",
              "      <td>2020-03-01 04:39:30+00:00</td>\n",
              "      <td>2020-03-01 00:00:00+00:00</td>\n",
              "      <td>-33.971775</td>\n",
              "      <td>151.181774</td>\n",
              "      <td>0.0</td>\n",
              "      <td>-33.995889</td>\n",
              "      <td>151.188755</td>\n",
              "      <td>236.22</td>\n",
              "    </tr>\n",
              "    <tr>\n",
              "      <th>2</th>\n",
              "      <td>LAN602</td>\n",
              "      <td>LA602</td>\n",
              "      <td>6058c095-d439-445e-9bca-643113af5b89</td>\n",
              "      <td>B789</td>\n",
              "      <td>KMIA</td>\n",
              "      <td>KLAX</td>\n",
              "      <td>2020-02-29 01:12:29+00:00</td>\n",
              "      <td>2020-03-01 14:28:58+00:00</td>\n",
              "      <td>2020-03-01 00:00:00+00:00</td>\n",
              "      <td>25.774531</td>\n",
              "      <td>-80.404064</td>\n",
              "      <td>914.4</td>\n",
              "      <td>33.947195</td>\n",
              "      <td>-118.431358</td>\n",
              "      <td>22.86</td>\n",
              "    </tr>\n",
              "    <tr>\n",
              "      <th>3</th>\n",
              "      <td>MAU440</td>\n",
              "      <td>MK440</td>\n",
              "      <td>e052860c-9157-4e2c-9154-e042bd77cf18</td>\n",
              "      <td>A332</td>\n",
              "      <td>VAJJ</td>\n",
              "      <td>YPPH</td>\n",
              "      <td>2020-02-29 01:34:11+00:00</td>\n",
              "      <td>2020-03-01 01:01:52+00:00</td>\n",
              "      <td>2020-03-01 00:00:00+00:00</td>\n",
              "      <td>19.088419</td>\n",
              "      <td>72.842052</td>\n",
              "      <td>0.0</td>\n",
              "      <td>-31.941330</td>\n",
              "      <td>115.964758</td>\n",
              "      <td>0.00</td>\n",
              "    </tr>\n",
              "    <tr>\n",
              "      <th>4</th>\n",
              "      <td>KQA784</td>\n",
              "      <td>NaN</td>\n",
              "      <td>f4f16959-b038-4726-84f4-447f8c94e5e4</td>\n",
              "      <td>B738</td>\n",
              "      <td>VABB</td>\n",
              "      <td>FACT</td>\n",
              "      <td>2020-02-29 01:44:10+00:00</td>\n",
              "      <td>2020-03-01 19:28:15+00:00</td>\n",
              "      <td>2020-03-01 00:00:00+00:00</td>\n",
              "      <td>19.088745</td>\n",
              "      <td>72.868979</td>\n",
              "      <td>0.0</td>\n",
              "      <td>-33.966468</td>\n",
              "      <td>18.602142</td>\n",
              "      <td>38.10</td>\n",
              "    </tr>\n",
              "  </tbody>\n",
              "</table>\n",
              "</div>"
            ],
            "text/plain": [
              "  callsign number  ... longitude_2 altitude_2\n",
              "0   SVA870    NaN  ...  120.992576      99.06\n",
              "1    QFA64   QF64  ...  151.188755     236.22\n",
              "2   LAN602  LA602  ... -118.431358      22.86\n",
              "3   MAU440  MK440  ...  115.964758       0.00\n",
              "4   KQA784    NaN  ...   18.602142      38.10\n",
              "\n",
              "[5 rows x 15 columns]"
            ]
          },
          "metadata": {},
          "execution_count": 8
        }
      ]
    },
    {
      "cell_type": "markdown",
      "metadata": {
        "id": "UV48EnTxqVdk"
      },
      "source": [
        "Basic exploratory data analysis"
      ]
    },
    {
      "cell_type": "code",
      "metadata": {
        "id": "arb_u-v5qSc8",
        "colab": {
          "base_uri": "https://localhost:8080/",
          "height": 323
        },
        "outputId": "5346e754-ce2e-4a04-fb7e-e2e4e983400a"
      },
      "source": [
        "flightlist.head()"
      ],
      "execution_count": 9,
      "outputs": [
        {
          "output_type": "execute_result",
          "data": {
            "text/html": [
              "<div>\n",
              "<style scoped>\n",
              "    .dataframe tbody tr th:only-of-type {\n",
              "        vertical-align: middle;\n",
              "    }\n",
              "\n",
              "    .dataframe tbody tr th {\n",
              "        vertical-align: top;\n",
              "    }\n",
              "\n",
              "    .dataframe thead th {\n",
              "        text-align: right;\n",
              "    }\n",
              "</style>\n",
              "<table border=\"1\" class=\"dataframe\">\n",
              "  <thead>\n",
              "    <tr style=\"text-align: right;\">\n",
              "      <th></th>\n",
              "      <th>callsign</th>\n",
              "      <th>number</th>\n",
              "      <th>aircraft_uid</th>\n",
              "      <th>typecode</th>\n",
              "      <th>origin</th>\n",
              "      <th>destination</th>\n",
              "      <th>firstseen</th>\n",
              "      <th>lastseen</th>\n",
              "      <th>day</th>\n",
              "      <th>latitude_1</th>\n",
              "      <th>longitude_1</th>\n",
              "      <th>altitude_1</th>\n",
              "      <th>latitude_2</th>\n",
              "      <th>longitude_2</th>\n",
              "      <th>altitude_2</th>\n",
              "    </tr>\n",
              "  </thead>\n",
              "  <tbody>\n",
              "    <tr>\n",
              "      <th>0</th>\n",
              "      <td>SVA870</td>\n",
              "      <td>NaN</td>\n",
              "      <td>82eff96d-11aa-41f0-a47c-974e3158c862</td>\n",
              "      <td>B77W</td>\n",
              "      <td>NaN</td>\n",
              "      <td>RPLL</td>\n",
              "      <td>2020-02-29 00:49:11+00:00</td>\n",
              "      <td>2020-03-01 07:39:58+00:00</td>\n",
              "      <td>2020-03-01 00:00:00+00:00</td>\n",
              "      <td>22.501490</td>\n",
              "      <td>46.814016</td>\n",
              "      <td>9448.8</td>\n",
              "      <td>14.493667</td>\n",
              "      <td>120.992576</td>\n",
              "      <td>99.06</td>\n",
              "    </tr>\n",
              "    <tr>\n",
              "      <th>1</th>\n",
              "      <td>QFA64</td>\n",
              "      <td>QF64</td>\n",
              "      <td>92ac5351-d69f-4836-979e-68b14bccf16d</td>\n",
              "      <td>B744</td>\n",
              "      <td>YSSY</td>\n",
              "      <td>YSSY</td>\n",
              "      <td>2020-02-29 01:00:11+00:00</td>\n",
              "      <td>2020-03-01 04:39:30+00:00</td>\n",
              "      <td>2020-03-01 00:00:00+00:00</td>\n",
              "      <td>-33.971775</td>\n",
              "      <td>151.181774</td>\n",
              "      <td>0.0</td>\n",
              "      <td>-33.995889</td>\n",
              "      <td>151.188755</td>\n",
              "      <td>236.22</td>\n",
              "    </tr>\n",
              "    <tr>\n",
              "      <th>2</th>\n",
              "      <td>LAN602</td>\n",
              "      <td>LA602</td>\n",
              "      <td>6058c095-d439-445e-9bca-643113af5b89</td>\n",
              "      <td>B789</td>\n",
              "      <td>KMIA</td>\n",
              "      <td>KLAX</td>\n",
              "      <td>2020-02-29 01:12:29+00:00</td>\n",
              "      <td>2020-03-01 14:28:58+00:00</td>\n",
              "      <td>2020-03-01 00:00:00+00:00</td>\n",
              "      <td>25.774531</td>\n",
              "      <td>-80.404064</td>\n",
              "      <td>914.4</td>\n",
              "      <td>33.947195</td>\n",
              "      <td>-118.431358</td>\n",
              "      <td>22.86</td>\n",
              "    </tr>\n",
              "    <tr>\n",
              "      <th>3</th>\n",
              "      <td>MAU440</td>\n",
              "      <td>MK440</td>\n",
              "      <td>e052860c-9157-4e2c-9154-e042bd77cf18</td>\n",
              "      <td>A332</td>\n",
              "      <td>VAJJ</td>\n",
              "      <td>YPPH</td>\n",
              "      <td>2020-02-29 01:34:11+00:00</td>\n",
              "      <td>2020-03-01 01:01:52+00:00</td>\n",
              "      <td>2020-03-01 00:00:00+00:00</td>\n",
              "      <td>19.088419</td>\n",
              "      <td>72.842052</td>\n",
              "      <td>0.0</td>\n",
              "      <td>-31.941330</td>\n",
              "      <td>115.964758</td>\n",
              "      <td>0.00</td>\n",
              "    </tr>\n",
              "    <tr>\n",
              "      <th>4</th>\n",
              "      <td>KQA784</td>\n",
              "      <td>NaN</td>\n",
              "      <td>f4f16959-b038-4726-84f4-447f8c94e5e4</td>\n",
              "      <td>B738</td>\n",
              "      <td>VABB</td>\n",
              "      <td>FACT</td>\n",
              "      <td>2020-02-29 01:44:10+00:00</td>\n",
              "      <td>2020-03-01 19:28:15+00:00</td>\n",
              "      <td>2020-03-01 00:00:00+00:00</td>\n",
              "      <td>19.088745</td>\n",
              "      <td>72.868979</td>\n",
              "      <td>0.0</td>\n",
              "      <td>-33.966468</td>\n",
              "      <td>18.602142</td>\n",
              "      <td>38.10</td>\n",
              "    </tr>\n",
              "  </tbody>\n",
              "</table>\n",
              "</div>"
            ],
            "text/plain": [
              "  callsign number  ... longitude_2 altitude_2\n",
              "0   SVA870    NaN  ...  120.992576      99.06\n",
              "1    QFA64   QF64  ...  151.188755     236.22\n",
              "2   LAN602  LA602  ... -118.431358      22.86\n",
              "3   MAU440  MK440  ...  115.964758       0.00\n",
              "4   KQA784    NaN  ...   18.602142      38.10\n",
              "\n",
              "[5 rows x 15 columns]"
            ]
          },
          "metadata": {},
          "execution_count": 9
        }
      ]
    },
    {
      "cell_type": "code",
      "metadata": {
        "id": "96X2lgEIqYaM",
        "colab": {
          "base_uri": "https://localhost:8080/",
          "height": 297
        },
        "outputId": "6d0b4036-994e-49fc-edba-40da38b71f9f"
      },
      "source": [
        "flightlist.describe()"
      ],
      "execution_count": 10,
      "outputs": [
        {
          "output_type": "execute_result",
          "data": {
            "text/html": [
              "<div>\n",
              "<style scoped>\n",
              "    .dataframe tbody tr th:only-of-type {\n",
              "        vertical-align: middle;\n",
              "    }\n",
              "\n",
              "    .dataframe tbody tr th {\n",
              "        vertical-align: top;\n",
              "    }\n",
              "\n",
              "    .dataframe thead th {\n",
              "        text-align: right;\n",
              "    }\n",
              "</style>\n",
              "<table border=\"1\" class=\"dataframe\">\n",
              "  <thead>\n",
              "    <tr style=\"text-align: right;\">\n",
              "      <th></th>\n",
              "      <th>latitude_1</th>\n",
              "      <th>longitude_1</th>\n",
              "      <th>altitude_1</th>\n",
              "      <th>latitude_2</th>\n",
              "      <th>longitude_2</th>\n",
              "      <th>altitude_2</th>\n",
              "    </tr>\n",
              "  </thead>\n",
              "  <tbody>\n",
              "    <tr>\n",
              "      <th>count</th>\n",
              "      <td>5.643897e+06</td>\n",
              "      <td>5.643897e+06</td>\n",
              "      <td>5.643897e+06</td>\n",
              "      <td>5.643743e+06</td>\n",
              "      <td>5.643743e+06</td>\n",
              "      <td>5.499513e+06</td>\n",
              "    </tr>\n",
              "    <tr>\n",
              "      <th>mean</th>\n",
              "      <td>3.235433e+01</td>\n",
              "      <td>-3.195415e+01</td>\n",
              "      <td>1.806254e+03</td>\n",
              "      <td>3.238804e+01</td>\n",
              "      <td>-3.210289e+01</td>\n",
              "      <td>1.787318e+03</td>\n",
              "    </tr>\n",
              "    <tr>\n",
              "      <th>std</th>\n",
              "      <td>2.036012e+01</td>\n",
              "      <td>8.405116e+01</td>\n",
              "      <td>3.112800e+03</td>\n",
              "      <td>2.038152e+01</td>\n",
              "      <td>8.392826e+01</td>\n",
              "      <td>3.065164e+03</td>\n",
              "    </tr>\n",
              "    <tr>\n",
              "      <th>min</th>\n",
              "      <td>-4.864197e+01</td>\n",
              "      <td>-1.788520e+02</td>\n",
              "      <td>-6.096000e+02</td>\n",
              "      <td>-4.883075e+01</td>\n",
              "      <td>-1.789381e+02</td>\n",
              "      <td>-9.601200e+02</td>\n",
              "    </tr>\n",
              "    <tr>\n",
              "      <th>25%</th>\n",
              "      <td>2.944932e+01</td>\n",
              "      <td>-9.534419e+01</td>\n",
              "      <td>0.000000e+00</td>\n",
              "      <td>2.942374e+01</td>\n",
              "      <td>-9.539528e+01</td>\n",
              "      <td>1.600200e+02</td>\n",
              "    </tr>\n",
              "    <tr>\n",
              "      <th>50%</th>\n",
              "      <td>3.637985e+01</td>\n",
              "      <td>-7.657453e+01</td>\n",
              "      <td>3.048000e+02</td>\n",
              "      <td>3.666789e+01</td>\n",
              "      <td>-7.647858e+01</td>\n",
              "      <td>4.191000e+02</td>\n",
              "    </tr>\n",
              "    <tr>\n",
              "      <th>75%</th>\n",
              "      <td>4.236122e+01</td>\n",
              "      <td>1.845580e+01</td>\n",
              "      <td>1.828800e+03</td>\n",
              "      <td>4.237795e+01</td>\n",
              "      <td>1.800139e+01</td>\n",
              "      <td>1.638300e+03</td>\n",
              "    </tr>\n",
              "    <tr>\n",
              "      <th>max</th>\n",
              "      <td>7.068173e+01</td>\n",
              "      <td>1.796345e+02</td>\n",
              "      <td>3.840480e+04</td>\n",
              "      <td>7.055923e+01</td>\n",
              "      <td>1.793107e+02</td>\n",
              "      <td>3.864864e+04</td>\n",
              "    </tr>\n",
              "  </tbody>\n",
              "</table>\n",
              "</div>"
            ],
            "text/plain": [
              "         latitude_1   longitude_1  ...   longitude_2    altitude_2\n",
              "count  5.643897e+06  5.643897e+06  ...  5.643743e+06  5.499513e+06\n",
              "mean   3.235433e+01 -3.195415e+01  ... -3.210289e+01  1.787318e+03\n",
              "std    2.036012e+01  8.405116e+01  ...  8.392826e+01  3.065164e+03\n",
              "min   -4.864197e+01 -1.788520e+02  ... -1.789381e+02 -9.601200e+02\n",
              "25%    2.944932e+01 -9.534419e+01  ... -9.539528e+01  1.600200e+02\n",
              "50%    3.637985e+01 -7.657453e+01  ... -7.647858e+01  4.191000e+02\n",
              "75%    4.236122e+01  1.845580e+01  ...  1.800139e+01  1.638300e+03\n",
              "max    7.068173e+01  1.796345e+02  ...  1.793107e+02  3.864864e+04\n",
              "\n",
              "[8 rows x 6 columns]"
            ]
          },
          "metadata": {},
          "execution_count": 10
        }
      ]
    },
    {
      "cell_type": "code",
      "metadata": {
        "id": "QC3fw9Roqc_s",
        "colab": {
          "base_uri": "https://localhost:8080/"
        },
        "outputId": "7a7d96a2-2307-4fb2-e6ca-3489e15025a2"
      },
      "source": [
        "print(len(flightlist))\n",
        "print(flightlist.origin.isnull().sum(axis = 0) / len(flightlist))\n",
        "print(flightlist.destination.isnull().sum(axis = 0) / len(flightlist))"
      ],
      "execution_count": 11,
      "outputs": [
        {
          "output_type": "stream",
          "name": "stdout",
          "text": [
            "5643897\n",
            "0.24468837755189365\n",
            "0.1774585893399543\n"
          ]
        }
      ]
    },
    {
      "cell_type": "markdown",
      "metadata": {
        "id": "2RA7_n1Sqfyk"
      },
      "source": [
        "Delete all records that have no origin or destination data (this action is subject to discussion)"
      ]
    },
    {
      "cell_type": "code",
      "metadata": {
        "id": "rAS46m69qdn7"
      },
      "source": [
        "flightlist = flightlist[flightlist['origin'].notna() & flightlist['destination'].notna()]"
      ],
      "execution_count": 12,
      "outputs": []
    },
    {
      "cell_type": "markdown",
      "metadata": {
        "id": "sGy58gPQqlFk"
      },
      "source": [
        "**Make matching of countries by ICAO codes table**\n",
        "\n",
        "Read ICAO data"
      ]
    },
    {
      "cell_type": "code",
      "metadata": {
        "id": "WvkwUvjnqiW8"
      },
      "source": [
        "icao_codes = pd.read_excel(Path(\"/content/drive/MyDrive/flight data/icao_codes.xlsx\"), usecols=[\"ICAO\", \"Country\"], sheet_name = \"data\")"
      ],
      "execution_count": 13,
      "outputs": []
    },
    {
      "cell_type": "code",
      "metadata": {
        "id": "pVCNQ3tMqvRL",
        "colab": {
          "base_uri": "https://localhost:8080/",
          "height": 204
        },
        "outputId": "07c444fb-edd1-47d5-bc30-2d1716ff232e"
      },
      "source": [
        "icao_codes.head()"
      ],
      "execution_count": 14,
      "outputs": [
        {
          "output_type": "execute_result",
          "data": {
            "text/html": [
              "<div>\n",
              "<style scoped>\n",
              "    .dataframe tbody tr th:only-of-type {\n",
              "        vertical-align: middle;\n",
              "    }\n",
              "\n",
              "    .dataframe tbody tr th {\n",
              "        vertical-align: top;\n",
              "    }\n",
              "\n",
              "    .dataframe thead th {\n",
              "        text-align: right;\n",
              "    }\n",
              "</style>\n",
              "<table border=\"1\" class=\"dataframe\">\n",
              "  <thead>\n",
              "    <tr style=\"text-align: right;\">\n",
              "      <th></th>\n",
              "      <th>ICAO</th>\n",
              "      <th>Country</th>\n",
              "    </tr>\n",
              "  </thead>\n",
              "  <tbody>\n",
              "    <tr>\n",
              "      <th>0</th>\n",
              "      <td>AGAF</td>\n",
              "      <td>Solomon Islands</td>\n",
              "    </tr>\n",
              "    <tr>\n",
              "      <th>1</th>\n",
              "      <td>AGAR</td>\n",
              "      <td>Solomon Islands</td>\n",
              "    </tr>\n",
              "    <tr>\n",
              "      <th>2</th>\n",
              "      <td>AGAT</td>\n",
              "      <td>Solomon Islands</td>\n",
              "    </tr>\n",
              "    <tr>\n",
              "      <th>3</th>\n",
              "      <td>AGBT</td>\n",
              "      <td>Solomon Islands</td>\n",
              "    </tr>\n",
              "    <tr>\n",
              "      <th>4</th>\n",
              "      <td>AGGA</td>\n",
              "      <td>Solomon Islands</td>\n",
              "    </tr>\n",
              "  </tbody>\n",
              "</table>\n",
              "</div>"
            ],
            "text/plain": [
              "   ICAO          Country\n",
              "0  AGAF  Solomon Islands\n",
              "1  AGAR  Solomon Islands\n",
              "2  AGAT  Solomon Islands\n",
              "3  AGBT  Solomon Islands\n",
              "4  AGGA  Solomon Islands"
            ]
          },
          "metadata": {},
          "execution_count": 14
        }
      ]
    },
    {
      "cell_type": "markdown",
      "metadata": {
        "id": "pAblzf_KqxSM"
      },
      "source": [
        "Join by origin"
      ]
    },
    {
      "cell_type": "code",
      "metadata": {
        "id": "MBUiRepEqzRz"
      },
      "source": [
        "flightlist = pd.merge(flightlist, icao_codes, how=\"left\", left_on = [\"origin\"], right_on=[\"ICAO\"])\n",
        "flightlist = flightlist.rename(columns={\"Country\": \"country_origin\"}).drop(columns=[\"ICAO\"])"
      ],
      "execution_count": 15,
      "outputs": []
    },
    {
      "cell_type": "markdown",
      "metadata": {
        "id": "ZuT2qt3Gq9Y0"
      },
      "source": [
        "Join by destination"
      ]
    },
    {
      "cell_type": "code",
      "metadata": {
        "id": "c_nbGVH3q-A8"
      },
      "source": [
        "flightlist = pd.merge(flightlist, icao_codes, how=\"left\", left_on = [\"destination\"], right_on=[\"ICAO\"])\n",
        "flightlist = flightlist.rename(columns={\"Country\": \"country_destination\"}).drop(columns=[\"ICAO\"])\n"
      ],
      "execution_count": 16,
      "outputs": []
    },
    {
      "cell_type": "markdown",
      "metadata": {
        "id": "51_xme_krDQV"
      },
      "source": [
        "Explore results of join"
      ]
    },
    {
      "cell_type": "code",
      "metadata": {
        "id": "CqnfiFO7rEIs",
        "colab": {
          "base_uri": "https://localhost:8080/",
          "height": 479
        },
        "outputId": "68c6b9df-88f0-45eb-c84e-a688c98b2cfb"
      },
      "source": [
        "flightlist.head()"
      ],
      "execution_count": 17,
      "outputs": [
        {
          "output_type": "execute_result",
          "data": {
            "text/html": [
              "<div>\n",
              "<style scoped>\n",
              "    .dataframe tbody tr th:only-of-type {\n",
              "        vertical-align: middle;\n",
              "    }\n",
              "\n",
              "    .dataframe tbody tr th {\n",
              "        vertical-align: top;\n",
              "    }\n",
              "\n",
              "    .dataframe thead th {\n",
              "        text-align: right;\n",
              "    }\n",
              "</style>\n",
              "<table border=\"1\" class=\"dataframe\">\n",
              "  <thead>\n",
              "    <tr style=\"text-align: right;\">\n",
              "      <th></th>\n",
              "      <th>callsign</th>\n",
              "      <th>number</th>\n",
              "      <th>aircraft_uid</th>\n",
              "      <th>typecode</th>\n",
              "      <th>origin</th>\n",
              "      <th>destination</th>\n",
              "      <th>firstseen</th>\n",
              "      <th>lastseen</th>\n",
              "      <th>day</th>\n",
              "      <th>latitude_1</th>\n",
              "      <th>longitude_1</th>\n",
              "      <th>altitude_1</th>\n",
              "      <th>latitude_2</th>\n",
              "      <th>longitude_2</th>\n",
              "      <th>altitude_2</th>\n",
              "      <th>country_origin</th>\n",
              "      <th>country_destination</th>\n",
              "    </tr>\n",
              "  </thead>\n",
              "  <tbody>\n",
              "    <tr>\n",
              "      <th>0</th>\n",
              "      <td>QFA64</td>\n",
              "      <td>QF64</td>\n",
              "      <td>92ac5351-d69f-4836-979e-68b14bccf16d</td>\n",
              "      <td>B744</td>\n",
              "      <td>YSSY</td>\n",
              "      <td>YSSY</td>\n",
              "      <td>2020-02-29 01:00:11+00:00</td>\n",
              "      <td>2020-03-01 04:39:30+00:00</td>\n",
              "      <td>2020-03-01 00:00:00+00:00</td>\n",
              "      <td>-33.971775</td>\n",
              "      <td>151.181774</td>\n",
              "      <td>0.0</td>\n",
              "      <td>-33.995889</td>\n",
              "      <td>151.188755</td>\n",
              "      <td>236.22</td>\n",
              "      <td>Australia</td>\n",
              "      <td>Australia</td>\n",
              "    </tr>\n",
              "    <tr>\n",
              "      <th>1</th>\n",
              "      <td>LAN602</td>\n",
              "      <td>LA602</td>\n",
              "      <td>6058c095-d439-445e-9bca-643113af5b89</td>\n",
              "      <td>B789</td>\n",
              "      <td>KMIA</td>\n",
              "      <td>KLAX</td>\n",
              "      <td>2020-02-29 01:12:29+00:00</td>\n",
              "      <td>2020-03-01 14:28:58+00:00</td>\n",
              "      <td>2020-03-01 00:00:00+00:00</td>\n",
              "      <td>25.774531</td>\n",
              "      <td>-80.404064</td>\n",
              "      <td>914.4</td>\n",
              "      <td>33.947195</td>\n",
              "      <td>-118.431358</td>\n",
              "      <td>22.86</td>\n",
              "      <td>United States of America</td>\n",
              "      <td>United States of America</td>\n",
              "    </tr>\n",
              "    <tr>\n",
              "      <th>2</th>\n",
              "      <td>MAU440</td>\n",
              "      <td>MK440</td>\n",
              "      <td>e052860c-9157-4e2c-9154-e042bd77cf18</td>\n",
              "      <td>A332</td>\n",
              "      <td>VAJJ</td>\n",
              "      <td>YPPH</td>\n",
              "      <td>2020-02-29 01:34:11+00:00</td>\n",
              "      <td>2020-03-01 01:01:52+00:00</td>\n",
              "      <td>2020-03-01 00:00:00+00:00</td>\n",
              "      <td>19.088419</td>\n",
              "      <td>72.842052</td>\n",
              "      <td>0.0</td>\n",
              "      <td>-31.941330</td>\n",
              "      <td>115.964758</td>\n",
              "      <td>0.00</td>\n",
              "      <td>NaN</td>\n",
              "      <td>Australia</td>\n",
              "    </tr>\n",
              "    <tr>\n",
              "      <th>3</th>\n",
              "      <td>KQA784</td>\n",
              "      <td>NaN</td>\n",
              "      <td>f4f16959-b038-4726-84f4-447f8c94e5e4</td>\n",
              "      <td>B738</td>\n",
              "      <td>VABB</td>\n",
              "      <td>FACT</td>\n",
              "      <td>2020-02-29 01:44:10+00:00</td>\n",
              "      <td>2020-03-01 19:28:15+00:00</td>\n",
              "      <td>2020-03-01 00:00:00+00:00</td>\n",
              "      <td>19.088745</td>\n",
              "      <td>72.868979</td>\n",
              "      <td>0.0</td>\n",
              "      <td>-33.966468</td>\n",
              "      <td>18.602142</td>\n",
              "      <td>38.10</td>\n",
              "      <td>India</td>\n",
              "      <td>South Africa</td>\n",
              "    </tr>\n",
              "    <tr>\n",
              "      <th>4</th>\n",
              "      <td>NaN</td>\n",
              "      <td>NaN</td>\n",
              "      <td>31d7ce7d-5062-42e4-89a6-00709fd2e132</td>\n",
              "      <td>B788</td>\n",
              "      <td>WBSB</td>\n",
              "      <td>WBSB</td>\n",
              "      <td>2020-02-29 03:22:11+00:00</td>\n",
              "      <td>2020-03-01 00:08:34+00:00</td>\n",
              "      <td>2020-03-01 00:00:00+00:00</td>\n",
              "      <td>4.949108</td>\n",
              "      <td>114.931293</td>\n",
              "      <td>0.0</td>\n",
              "      <td>4.941788</td>\n",
              "      <td>114.926908</td>\n",
              "      <td>22.86</td>\n",
              "      <td>Brunei</td>\n",
              "      <td>Brunei</td>\n",
              "    </tr>\n",
              "  </tbody>\n",
              "</table>\n",
              "</div>"
            ],
            "text/plain": [
              "  callsign number  ...            country_origin       country_destination\n",
              "0    QFA64   QF64  ...                 Australia                 Australia\n",
              "1   LAN602  LA602  ...  United States of America  United States of America\n",
              "2   MAU440  MK440  ...                       NaN                 Australia\n",
              "3   KQA784    NaN  ...                     India              South Africa\n",
              "4      NaN    NaN  ...                    Brunei                    Brunei\n",
              "\n",
              "[5 rows x 17 columns]"
            ]
          },
          "metadata": {},
          "execution_count": 17
        }
      ]
    },
    {
      "cell_type": "code",
      "metadata": {
        "id": "xP8GUn1erGek",
        "colab": {
          "base_uri": "https://localhost:8080/"
        },
        "outputId": "9f91f4c9-4edc-4018-e6ab-384f7a586918"
      },
      "source": [
        "print(len(flightlist))\n",
        "print(flightlist.country_origin.isnull().sum(axis = 0) / len(flightlist))\n",
        "print(flightlist.country_destination.isnull().sum(axis = 0) / len(flightlist))"
      ],
      "execution_count": 18,
      "outputs": [
        {
          "output_type": "stream",
          "name": "stdout",
          "text": [
            "3500136\n",
            "0.1387468944063888\n",
            "0.20218071526363546\n"
          ]
        }
      ]
    },
    {
      "cell_type": "markdown",
      "metadata": {
        "id": "H2-xwpVArMU8"
      },
      "source": [
        "**Make matching of countries by ICAO nationality prefixes**\n",
        "\n",
        "Create prefixes for origin and destination"
      ]
    },
    {
      "cell_type": "code",
      "metadata": {
        "id": "nuy5H5e-rPIl",
        "colab": {
          "base_uri": "https://localhost:8080/",
          "height": 479
        },
        "outputId": "f8bfb4ab-12e1-4110-eae1-185d5a43424b"
      },
      "source": [
        "flightlist['origin_pref'] = flightlist['origin'].astype(str).str[:2]\n",
        "flightlist['destination_pref'] = flightlist['destination'].astype(str).str[:2]\n",
        "flightlist.head()"
      ],
      "execution_count": 19,
      "outputs": [
        {
          "output_type": "execute_result",
          "data": {
            "text/html": [
              "<div>\n",
              "<style scoped>\n",
              "    .dataframe tbody tr th:only-of-type {\n",
              "        vertical-align: middle;\n",
              "    }\n",
              "\n",
              "    .dataframe tbody tr th {\n",
              "        vertical-align: top;\n",
              "    }\n",
              "\n",
              "    .dataframe thead th {\n",
              "        text-align: right;\n",
              "    }\n",
              "</style>\n",
              "<table border=\"1\" class=\"dataframe\">\n",
              "  <thead>\n",
              "    <tr style=\"text-align: right;\">\n",
              "      <th></th>\n",
              "      <th>callsign</th>\n",
              "      <th>number</th>\n",
              "      <th>aircraft_uid</th>\n",
              "      <th>typecode</th>\n",
              "      <th>origin</th>\n",
              "      <th>destination</th>\n",
              "      <th>firstseen</th>\n",
              "      <th>lastseen</th>\n",
              "      <th>day</th>\n",
              "      <th>latitude_1</th>\n",
              "      <th>longitude_1</th>\n",
              "      <th>altitude_1</th>\n",
              "      <th>latitude_2</th>\n",
              "      <th>longitude_2</th>\n",
              "      <th>altitude_2</th>\n",
              "      <th>country_origin</th>\n",
              "      <th>country_destination</th>\n",
              "      <th>origin_pref</th>\n",
              "      <th>destination_pref</th>\n",
              "    </tr>\n",
              "  </thead>\n",
              "  <tbody>\n",
              "    <tr>\n",
              "      <th>0</th>\n",
              "      <td>QFA64</td>\n",
              "      <td>QF64</td>\n",
              "      <td>92ac5351-d69f-4836-979e-68b14bccf16d</td>\n",
              "      <td>B744</td>\n",
              "      <td>YSSY</td>\n",
              "      <td>YSSY</td>\n",
              "      <td>2020-02-29 01:00:11+00:00</td>\n",
              "      <td>2020-03-01 04:39:30+00:00</td>\n",
              "      <td>2020-03-01 00:00:00+00:00</td>\n",
              "      <td>-33.971775</td>\n",
              "      <td>151.181774</td>\n",
              "      <td>0.0</td>\n",
              "      <td>-33.995889</td>\n",
              "      <td>151.188755</td>\n",
              "      <td>236.22</td>\n",
              "      <td>Australia</td>\n",
              "      <td>Australia</td>\n",
              "      <td>YS</td>\n",
              "      <td>YS</td>\n",
              "    </tr>\n",
              "    <tr>\n",
              "      <th>1</th>\n",
              "      <td>LAN602</td>\n",
              "      <td>LA602</td>\n",
              "      <td>6058c095-d439-445e-9bca-643113af5b89</td>\n",
              "      <td>B789</td>\n",
              "      <td>KMIA</td>\n",
              "      <td>KLAX</td>\n",
              "      <td>2020-02-29 01:12:29+00:00</td>\n",
              "      <td>2020-03-01 14:28:58+00:00</td>\n",
              "      <td>2020-03-01 00:00:00+00:00</td>\n",
              "      <td>25.774531</td>\n",
              "      <td>-80.404064</td>\n",
              "      <td>914.4</td>\n",
              "      <td>33.947195</td>\n",
              "      <td>-118.431358</td>\n",
              "      <td>22.86</td>\n",
              "      <td>United States of America</td>\n",
              "      <td>United States of America</td>\n",
              "      <td>KM</td>\n",
              "      <td>KL</td>\n",
              "    </tr>\n",
              "    <tr>\n",
              "      <th>2</th>\n",
              "      <td>MAU440</td>\n",
              "      <td>MK440</td>\n",
              "      <td>e052860c-9157-4e2c-9154-e042bd77cf18</td>\n",
              "      <td>A332</td>\n",
              "      <td>VAJJ</td>\n",
              "      <td>YPPH</td>\n",
              "      <td>2020-02-29 01:34:11+00:00</td>\n",
              "      <td>2020-03-01 01:01:52+00:00</td>\n",
              "      <td>2020-03-01 00:00:00+00:00</td>\n",
              "      <td>19.088419</td>\n",
              "      <td>72.842052</td>\n",
              "      <td>0.0</td>\n",
              "      <td>-31.941330</td>\n",
              "      <td>115.964758</td>\n",
              "      <td>0.00</td>\n",
              "      <td>NaN</td>\n",
              "      <td>Australia</td>\n",
              "      <td>VA</td>\n",
              "      <td>YP</td>\n",
              "    </tr>\n",
              "    <tr>\n",
              "      <th>3</th>\n",
              "      <td>KQA784</td>\n",
              "      <td>NaN</td>\n",
              "      <td>f4f16959-b038-4726-84f4-447f8c94e5e4</td>\n",
              "      <td>B738</td>\n",
              "      <td>VABB</td>\n",
              "      <td>FACT</td>\n",
              "      <td>2020-02-29 01:44:10+00:00</td>\n",
              "      <td>2020-03-01 19:28:15+00:00</td>\n",
              "      <td>2020-03-01 00:00:00+00:00</td>\n",
              "      <td>19.088745</td>\n",
              "      <td>72.868979</td>\n",
              "      <td>0.0</td>\n",
              "      <td>-33.966468</td>\n",
              "      <td>18.602142</td>\n",
              "      <td>38.10</td>\n",
              "      <td>India</td>\n",
              "      <td>South Africa</td>\n",
              "      <td>VA</td>\n",
              "      <td>FA</td>\n",
              "    </tr>\n",
              "    <tr>\n",
              "      <th>4</th>\n",
              "      <td>NaN</td>\n",
              "      <td>NaN</td>\n",
              "      <td>31d7ce7d-5062-42e4-89a6-00709fd2e132</td>\n",
              "      <td>B788</td>\n",
              "      <td>WBSB</td>\n",
              "      <td>WBSB</td>\n",
              "      <td>2020-02-29 03:22:11+00:00</td>\n",
              "      <td>2020-03-01 00:08:34+00:00</td>\n",
              "      <td>2020-03-01 00:00:00+00:00</td>\n",
              "      <td>4.949108</td>\n",
              "      <td>114.931293</td>\n",
              "      <td>0.0</td>\n",
              "      <td>4.941788</td>\n",
              "      <td>114.926908</td>\n",
              "      <td>22.86</td>\n",
              "      <td>Brunei</td>\n",
              "      <td>Brunei</td>\n",
              "      <td>WB</td>\n",
              "      <td>WB</td>\n",
              "    </tr>\n",
              "  </tbody>\n",
              "</table>\n",
              "</div>"
            ],
            "text/plain": [
              "  callsign number  ... origin_pref destination_pref\n",
              "0    QFA64   QF64  ...          YS               YS\n",
              "1   LAN602  LA602  ...          KM               KL\n",
              "2   MAU440  MK440  ...          VA               YP\n",
              "3   KQA784    NaN  ...          VA               FA\n",
              "4      NaN    NaN  ...          WB               WB\n",
              "\n",
              "[5 rows x 19 columns]"
            ]
          },
          "metadata": {},
          "execution_count": 19
        }
      ]
    },
    {
      "cell_type": "markdown",
      "metadata": {
        "id": "mIHiwpnZrULE"
      },
      "source": [
        "Read ICAO nationality prefixes data"
      ]
    },
    {
      "cell_type": "code",
      "metadata": {
        "id": "6ffZRpqkrSPd"
      },
      "source": [
        "country_prefix = pd.read_excel(Path(\"/content/drive/MyDrive/flight data/icao_nationality_prefixes.xlsx\"), usecols=[\"prefix\", \"Country\"], sheet_name = \"data\")"
      ],
      "execution_count": 20,
      "outputs": []
    },
    {
      "cell_type": "code",
      "metadata": {
        "id": "KhFur3hErXUE",
        "colab": {
          "base_uri": "https://localhost:8080/",
          "height": 204
        },
        "outputId": "6978dcf7-a9b9-4e5a-b937-d444f8393ebf"
      },
      "source": [
        "country_prefix.head()"
      ],
      "execution_count": 21,
      "outputs": [
        {
          "output_type": "execute_result",
          "data": {
            "text/html": [
              "<div>\n",
              "<style scoped>\n",
              "    .dataframe tbody tr th:only-of-type {\n",
              "        vertical-align: middle;\n",
              "    }\n",
              "\n",
              "    .dataframe tbody tr th {\n",
              "        vertical-align: top;\n",
              "    }\n",
              "\n",
              "    .dataframe thead th {\n",
              "        text-align: right;\n",
              "    }\n",
              "</style>\n",
              "<table border=\"1\" class=\"dataframe\">\n",
              "  <thead>\n",
              "    <tr style=\"text-align: right;\">\n",
              "      <th></th>\n",
              "      <th>prefix</th>\n",
              "      <th>Country</th>\n",
              "    </tr>\n",
              "  </thead>\n",
              "  <tbody>\n",
              "    <tr>\n",
              "      <th>0</th>\n",
              "      <td>AG</td>\n",
              "      <td>Solomon Islands</td>\n",
              "    </tr>\n",
              "    <tr>\n",
              "      <th>1</th>\n",
              "      <td>AN</td>\n",
              "      <td>Nauru</td>\n",
              "    </tr>\n",
              "    <tr>\n",
              "      <th>2</th>\n",
              "      <td>AY</td>\n",
              "      <td>Papua New Guinea</td>\n",
              "    </tr>\n",
              "    <tr>\n",
              "      <th>3</th>\n",
              "      <td>BG</td>\n",
              "      <td>Greenland</td>\n",
              "    </tr>\n",
              "    <tr>\n",
              "      <th>4</th>\n",
              "      <td>BI</td>\n",
              "      <td>Iceland</td>\n",
              "    </tr>\n",
              "  </tbody>\n",
              "</table>\n",
              "</div>"
            ],
            "text/plain": [
              "  prefix           Country\n",
              "0     AG   Solomon Islands\n",
              "1     AN             Nauru\n",
              "2     AY  Papua New Guinea\n",
              "3     BG         Greenland\n",
              "4     BI           Iceland"
            ]
          },
          "metadata": {},
          "execution_count": 21
        }
      ]
    },
    {
      "cell_type": "markdown",
      "metadata": {
        "id": "6FwZigJwraMt"
      },
      "source": [
        "Join by origin and destination (1st and 2nd cells respectively)"
      ]
    },
    {
      "cell_type": "code",
      "metadata": {
        "id": "z0vg82OzrYEw"
      },
      "source": [
        "flightlist = pd.merge(flightlist, country_prefix, how=\"left\", left_on = [\"origin_pref\"], right_on=[\"prefix\"])\n",
        "flightlist = flightlist.rename(columns={\"Country\": \"country_origin_2\"}).drop(columns=[\"prefix\"])"
      ],
      "execution_count": 22,
      "outputs": []
    },
    {
      "cell_type": "code",
      "metadata": {
        "id": "106Y6-u4rYCW"
      },
      "source": [
        "flightlist = pd.merge(flightlist, country_prefix, how=\"left\", left_on = [\"destination_pref\"], right_on=[\"prefix\"])\n",
        "flightlist = flightlist.rename(columns={\"Country\": \"country_destination_2\"}).drop(columns=[\"prefix\"])"
      ],
      "execution_count": 23,
      "outputs": []
    },
    {
      "cell_type": "code",
      "metadata": {
        "id": "ryq5SZ8wrX_1",
        "colab": {
          "base_uri": "https://localhost:8080/",
          "height": 479
        },
        "outputId": "b7b91935-d5e7-4c0d-fec0-9759c348c700"
      },
      "source": [
        "flightlist.head()"
      ],
      "execution_count": 24,
      "outputs": [
        {
          "output_type": "execute_result",
          "data": {
            "text/html": [
              "<div>\n",
              "<style scoped>\n",
              "    .dataframe tbody tr th:only-of-type {\n",
              "        vertical-align: middle;\n",
              "    }\n",
              "\n",
              "    .dataframe tbody tr th {\n",
              "        vertical-align: top;\n",
              "    }\n",
              "\n",
              "    .dataframe thead th {\n",
              "        text-align: right;\n",
              "    }\n",
              "</style>\n",
              "<table border=\"1\" class=\"dataframe\">\n",
              "  <thead>\n",
              "    <tr style=\"text-align: right;\">\n",
              "      <th></th>\n",
              "      <th>callsign</th>\n",
              "      <th>number</th>\n",
              "      <th>aircraft_uid</th>\n",
              "      <th>typecode</th>\n",
              "      <th>origin</th>\n",
              "      <th>destination</th>\n",
              "      <th>firstseen</th>\n",
              "      <th>lastseen</th>\n",
              "      <th>day</th>\n",
              "      <th>latitude_1</th>\n",
              "      <th>longitude_1</th>\n",
              "      <th>altitude_1</th>\n",
              "      <th>latitude_2</th>\n",
              "      <th>longitude_2</th>\n",
              "      <th>altitude_2</th>\n",
              "      <th>country_origin</th>\n",
              "      <th>country_destination</th>\n",
              "      <th>origin_pref</th>\n",
              "      <th>destination_pref</th>\n",
              "      <th>country_origin_2</th>\n",
              "      <th>country_destination_2</th>\n",
              "    </tr>\n",
              "  </thead>\n",
              "  <tbody>\n",
              "    <tr>\n",
              "      <th>0</th>\n",
              "      <td>QFA64</td>\n",
              "      <td>QF64</td>\n",
              "      <td>92ac5351-d69f-4836-979e-68b14bccf16d</td>\n",
              "      <td>B744</td>\n",
              "      <td>YSSY</td>\n",
              "      <td>YSSY</td>\n",
              "      <td>2020-02-29 01:00:11+00:00</td>\n",
              "      <td>2020-03-01 04:39:30+00:00</td>\n",
              "      <td>2020-03-01 00:00:00+00:00</td>\n",
              "      <td>-33.971775</td>\n",
              "      <td>151.181774</td>\n",
              "      <td>0.0</td>\n",
              "      <td>-33.995889</td>\n",
              "      <td>151.188755</td>\n",
              "      <td>236.22</td>\n",
              "      <td>Australia</td>\n",
              "      <td>Australia</td>\n",
              "      <td>YS</td>\n",
              "      <td>YS</td>\n",
              "      <td>NaN</td>\n",
              "      <td>NaN</td>\n",
              "    </tr>\n",
              "    <tr>\n",
              "      <th>1</th>\n",
              "      <td>LAN602</td>\n",
              "      <td>LA602</td>\n",
              "      <td>6058c095-d439-445e-9bca-643113af5b89</td>\n",
              "      <td>B789</td>\n",
              "      <td>KMIA</td>\n",
              "      <td>KLAX</td>\n",
              "      <td>2020-02-29 01:12:29+00:00</td>\n",
              "      <td>2020-03-01 14:28:58+00:00</td>\n",
              "      <td>2020-03-01 00:00:00+00:00</td>\n",
              "      <td>25.774531</td>\n",
              "      <td>-80.404064</td>\n",
              "      <td>914.4</td>\n",
              "      <td>33.947195</td>\n",
              "      <td>-118.431358</td>\n",
              "      <td>22.86</td>\n",
              "      <td>United States of America</td>\n",
              "      <td>United States of America</td>\n",
              "      <td>KM</td>\n",
              "      <td>KL</td>\n",
              "      <td>NaN</td>\n",
              "      <td>NaN</td>\n",
              "    </tr>\n",
              "    <tr>\n",
              "      <th>2</th>\n",
              "      <td>MAU440</td>\n",
              "      <td>MK440</td>\n",
              "      <td>e052860c-9157-4e2c-9154-e042bd77cf18</td>\n",
              "      <td>A332</td>\n",
              "      <td>VAJJ</td>\n",
              "      <td>YPPH</td>\n",
              "      <td>2020-02-29 01:34:11+00:00</td>\n",
              "      <td>2020-03-01 01:01:52+00:00</td>\n",
              "      <td>2020-03-01 00:00:00+00:00</td>\n",
              "      <td>19.088419</td>\n",
              "      <td>72.842052</td>\n",
              "      <td>0.0</td>\n",
              "      <td>-31.941330</td>\n",
              "      <td>115.964758</td>\n",
              "      <td>0.00</td>\n",
              "      <td>NaN</td>\n",
              "      <td>Australia</td>\n",
              "      <td>VA</td>\n",
              "      <td>YP</td>\n",
              "      <td>India</td>\n",
              "      <td>NaN</td>\n",
              "    </tr>\n",
              "    <tr>\n",
              "      <th>3</th>\n",
              "      <td>KQA784</td>\n",
              "      <td>NaN</td>\n",
              "      <td>f4f16959-b038-4726-84f4-447f8c94e5e4</td>\n",
              "      <td>B738</td>\n",
              "      <td>VABB</td>\n",
              "      <td>FACT</td>\n",
              "      <td>2020-02-29 01:44:10+00:00</td>\n",
              "      <td>2020-03-01 19:28:15+00:00</td>\n",
              "      <td>2020-03-01 00:00:00+00:00</td>\n",
              "      <td>19.088745</td>\n",
              "      <td>72.868979</td>\n",
              "      <td>0.0</td>\n",
              "      <td>-33.966468</td>\n",
              "      <td>18.602142</td>\n",
              "      <td>38.10</td>\n",
              "      <td>India</td>\n",
              "      <td>South Africa</td>\n",
              "      <td>VA</td>\n",
              "      <td>FA</td>\n",
              "      <td>India</td>\n",
              "      <td>South Africa</td>\n",
              "    </tr>\n",
              "    <tr>\n",
              "      <th>4</th>\n",
              "      <td>NaN</td>\n",
              "      <td>NaN</td>\n",
              "      <td>31d7ce7d-5062-42e4-89a6-00709fd2e132</td>\n",
              "      <td>B788</td>\n",
              "      <td>WBSB</td>\n",
              "      <td>WBSB</td>\n",
              "      <td>2020-02-29 03:22:11+00:00</td>\n",
              "      <td>2020-03-01 00:08:34+00:00</td>\n",
              "      <td>2020-03-01 00:00:00+00:00</td>\n",
              "      <td>4.949108</td>\n",
              "      <td>114.931293</td>\n",
              "      <td>0.0</td>\n",
              "      <td>4.941788</td>\n",
              "      <td>114.926908</td>\n",
              "      <td>22.86</td>\n",
              "      <td>Brunei</td>\n",
              "      <td>Brunei</td>\n",
              "      <td>WB</td>\n",
              "      <td>WB</td>\n",
              "      <td>Brunei</td>\n",
              "      <td>Brunei</td>\n",
              "    </tr>\n",
              "  </tbody>\n",
              "</table>\n",
              "</div>"
            ],
            "text/plain": [
              "  callsign number  ... country_origin_2 country_destination_2\n",
              "0    QFA64   QF64  ...              NaN                   NaN\n",
              "1   LAN602  LA602  ...              NaN                   NaN\n",
              "2   MAU440  MK440  ...            India                   NaN\n",
              "3   KQA784    NaN  ...            India          South Africa\n",
              "4      NaN    NaN  ...           Brunei                Brunei\n",
              "\n",
              "[5 rows x 21 columns]"
            ]
          },
          "metadata": {},
          "execution_count": 24
        }
      ]
    },
    {
      "cell_type": "markdown",
      "metadata": {
        "id": "8OXP7yhcrnIl"
      },
      "source": [
        "Fill NAs from the 1st join with values from the 2nd join"
      ]
    },
    {
      "cell_type": "code",
      "metadata": {
        "id": "BZG4CodUrX8F"
      },
      "source": [
        "flightlist['country_origin'] = flightlist['country_origin'].fillna(flightlist['country_origin_2'])\n",
        "flightlist['country_destination'] = flightlist['country_destination'].fillna(flightlist['country_destination_2'])"
      ],
      "execution_count": 25,
      "outputs": []
    },
    {
      "cell_type": "code",
      "metadata": {
        "id": "945etjGarqh3",
        "colab": {
          "base_uri": "https://localhost:8080/"
        },
        "outputId": "74cae7e1-b576-40c3-bbf2-0285423e448a"
      },
      "source": [
        "print(len(flightlist))\n",
        "print(flightlist.country_origin.isnull().sum(axis = 0) / len(flightlist))\n",
        "print(flightlist.country_destination.isnull().sum(axis = 0) / len(flightlist))"
      ],
      "execution_count": 26,
      "outputs": [
        {
          "output_type": "stream",
          "name": "stdout",
          "text": [
            "3500136\n",
            "0.0994498499486877\n",
            "0.14432924892061336\n"
          ]
        }
      ]
    },
    {
      "cell_type": "markdown",
      "metadata": {
        "id": "uCtYn3Ghrvxb"
      },
      "source": [
        "Remove records which didn't match with any country"
      ]
    },
    {
      "cell_type": "code",
      "metadata": {
        "id": "pe9Tlac-rqfE"
      },
      "source": [
        "flightlist = flightlist[flightlist['country_origin'].notna() & flightlist['country_destination'].notna()]"
      ],
      "execution_count": 27,
      "outputs": []
    },
    {
      "cell_type": "markdown",
      "metadata": {
        "id": "GsrtgQRer0n7"
      },
      "source": [
        "Delete unnecessary columns"
      ]
    },
    {
      "cell_type": "code",
      "metadata": {
        "id": "hJB1ZU8Arqcc"
      },
      "source": [
        "flightlist = flightlist.drop(columns=[\"country_origin_2\", \"country_destination_2\", \"origin_pref\", \"destination_pref\"])"
      ],
      "execution_count": 28,
      "outputs": []
    },
    {
      "cell_type": "markdown",
      "metadata": {
        "id": "H1YaMBkkr6ok"
      },
      "source": [
        "Add a column that indicates whether the flight is international or not."
      ]
    },
    {
      "cell_type": "code",
      "metadata": {
        "id": "8ahd-al5rqT1"
      },
      "source": [
        "flightlist['international'] = (flightlist[\"country_origin\"] != flightlist[\"country_destination\"])"
      ],
      "execution_count": 29,
      "outputs": []
    },
    {
      "cell_type": "markdown",
      "metadata": {
        "id": "9tQvUjTur-K0"
      },
      "source": [
        "Remove timezone information from \"day\" column"
      ]
    },
    {
      "cell_type": "code",
      "metadata": {
        "id": "zebRpL1Yr967"
      },
      "source": [
        "flightlist['day'] = flightlist['day'].dt.date"
      ],
      "execution_count": 30,
      "outputs": []
    },
    {
      "cell_type": "code",
      "metadata": {
        "id": "F1foU8T7xzGy"
      },
      "source": [
        "flightlist.to_csv(Path(\"/content/drive/MyDrive/flight data/flightsPro.csv\"), index=False)"
      ],
      "execution_count": 32,
      "outputs": []
    },
    {
      "cell_type": "markdown",
      "metadata": {
        "id": "TopR1LnrsGNk"
      },
      "source": [
        "Calculate the number of domestic flights for every country by dates"
      ]
    },
    {
      "cell_type": "code",
      "metadata": {
        "id": "0WmreIIwsG90"
      },
      "source": [
        "domestic_flights=flightlist[~flightlist.international].groupby(['country_origin', 'day'], as_index = False)['callsign'\n",
        "        ].count().rename(columns = {'callsign': 'domestic_flights', 'country_origin':'country'})"
      ],
      "execution_count": 33,
      "outputs": []
    },
    {
      "cell_type": "markdown",
      "metadata": {
        "id": "AxPdw6D6sO51"
      },
      "source": [
        "Calculate the number of international departures and arrivals for every country by dates"
      ]
    },
    {
      "cell_type": "code",
      "metadata": {
        "id": "ulA7H3oJsH-m"
      },
      "source": [
        "international_departures=flightlist[flightlist.international].groupby(['country_origin', 'day'], as_index = False)['callsign'\n",
        "        ].count().rename(columns = {'callsign': 'international_departures', 'country_origin':'country'})"
      ],
      "execution_count": 34,
      "outputs": []
    },
    {
      "cell_type": "code",
      "metadata": {
        "id": "62Gl4v_6sUT1"
      },
      "source": [
        "international_arrivals=flightlist[flightlist.international].groupby(['country_destination', 'day'], as_index = False)['callsign'\n",
        "        ].count().rename(columns = {'callsign': 'international_arrivals', 'country_destination':'country'})"
      ],
      "execution_count": 35,
      "outputs": []
    },
    {
      "cell_type": "markdown",
      "metadata": {
        "id": "hIZr5v6PsSAN"
      },
      "source": [
        "Join all these tables"
      ]
    },
    {
      "cell_type": "code",
      "metadata": {
        "id": "w_nPG_hZsH70"
      },
      "source": [
        "flights = pd.merge(domestic_flights, international_departures, how=\"outer\", on=[\"country\", \"day\"])"
      ],
      "execution_count": 36,
      "outputs": []
    },
    {
      "cell_type": "code",
      "metadata": {
        "id": "Oq6MDHUDsH4x"
      },
      "source": [
        "flights = pd.merge(flights, international_arrivals, how=\"outer\", on=[\"country\", \"day\"])"
      ],
      "execution_count": 37,
      "outputs": []
    },
    {
      "cell_type": "code",
      "metadata": {
        "id": "Tfuq5_ObsH1s"
      },
      "source": [
        "flights['total_flights'] = flights['domestic_flights'] + flights['international_departures'] + flights['international_arrivals']"
      ],
      "execution_count": 38,
      "outputs": []
    },
    {
      "cell_type": "code",
      "metadata": {
        "id": "DKxpnyCFr7Db",
        "colab": {
          "base_uri": "https://localhost:8080/",
          "height": 204
        },
        "outputId": "4fdad970-c6a6-4269-8820-e96605b462a1"
      },
      "source": [
        "flights.head()"
      ],
      "execution_count": 39,
      "outputs": [
        {
          "output_type": "execute_result",
          "data": {
            "text/html": [
              "<div>\n",
              "<style scoped>\n",
              "    .dataframe tbody tr th:only-of-type {\n",
              "        vertical-align: middle;\n",
              "    }\n",
              "\n",
              "    .dataframe tbody tr th {\n",
              "        vertical-align: top;\n",
              "    }\n",
              "\n",
              "    .dataframe thead th {\n",
              "        text-align: right;\n",
              "    }\n",
              "</style>\n",
              "<table border=\"1\" class=\"dataframe\">\n",
              "  <thead>\n",
              "    <tr style=\"text-align: right;\">\n",
              "      <th></th>\n",
              "      <th>country</th>\n",
              "      <th>day</th>\n",
              "      <th>domestic_flights</th>\n",
              "      <th>international_departures</th>\n",
              "      <th>international_arrivals</th>\n",
              "      <th>total_flights</th>\n",
              "    </tr>\n",
              "  </thead>\n",
              "  <tbody>\n",
              "    <tr>\n",
              "      <th>0</th>\n",
              "      <td>Afghanistan</td>\n",
              "      <td>2020-02-16</td>\n",
              "      <td>0.0</td>\n",
              "      <td>NaN</td>\n",
              "      <td>3.0</td>\n",
              "      <td>NaN</td>\n",
              "    </tr>\n",
              "    <tr>\n",
              "      <th>1</th>\n",
              "      <td>Afghanistan</td>\n",
              "      <td>2020-03-21</td>\n",
              "      <td>0.0</td>\n",
              "      <td>2.0</td>\n",
              "      <td>5.0</td>\n",
              "      <td>7.0</td>\n",
              "    </tr>\n",
              "    <tr>\n",
              "      <th>2</th>\n",
              "      <td>Afghanistan</td>\n",
              "      <td>2020-03-24</td>\n",
              "      <td>0.0</td>\n",
              "      <td>5.0</td>\n",
              "      <td>1.0</td>\n",
              "      <td>6.0</td>\n",
              "    </tr>\n",
              "    <tr>\n",
              "      <th>3</th>\n",
              "      <td>Afghanistan</td>\n",
              "      <td>2020-04-03</td>\n",
              "      <td>0.0</td>\n",
              "      <td>1.0</td>\n",
              "      <td>7.0</td>\n",
              "      <td>8.0</td>\n",
              "    </tr>\n",
              "    <tr>\n",
              "      <th>4</th>\n",
              "      <td>Afghanistan</td>\n",
              "      <td>2020-04-22</td>\n",
              "      <td>0.0</td>\n",
              "      <td>0.0</td>\n",
              "      <td>1.0</td>\n",
              "      <td>1.0</td>\n",
              "    </tr>\n",
              "  </tbody>\n",
              "</table>\n",
              "</div>"
            ],
            "text/plain": [
              "       country         day  ...  international_arrivals  total_flights\n",
              "0  Afghanistan  2020-02-16  ...                     3.0            NaN\n",
              "1  Afghanistan  2020-03-21  ...                     5.0            7.0\n",
              "2  Afghanistan  2020-03-24  ...                     1.0            6.0\n",
              "3  Afghanistan  2020-04-03  ...                     7.0            8.0\n",
              "4  Afghanistan  2020-04-22  ...                     1.0            1.0\n",
              "\n",
              "[5 rows x 6 columns]"
            ]
          },
          "metadata": {},
          "execution_count": 39
        }
      ]
    },
    {
      "cell_type": "markdown",
      "metadata": {
        "id": "XQLN0wxHsiD9"
      },
      "source": [
        "Write results to CSV and Excel"
      ]
    },
    {
      "cell_type": "code",
      "metadata": {
        "id": "tMfc3UbgskBd"
      },
      "source": [
        "flights.to_csv(Path(\"/content/drive/MyDrive/flight data/flightsNew.csv\"), index=False)"
      ],
      "execution_count": 40,
      "outputs": []
    }
  ]
}